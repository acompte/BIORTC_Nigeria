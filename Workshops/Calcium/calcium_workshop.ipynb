{
 "cells": [
  {
   "cell_type": "markdown",
   "id": "8174a857",
   "metadata": {},
   "source": [
    "# Welcome to the calcium imaging data analysis workshop\n",
    "\n",
    "As you remember, in the  <a href=\"..\\..\\BOOTCAMP\\Level 3 - Data Science\\3c_datasets.ipynb\">Bootcamp</a> we learned how to plot and explore the 2p microscope recording of one neuron. \n",
    "\n",
    "[Note: If you did not complete bootcamp 3c, do that before starting this workshop.]\n",
    "\n",
    "Now it's time to take that knowledge to the next level, and learn how to make sense of this data! \n",
    "\n",
    "We will be plotting the mean responses, parsed by trial type"
   ]
  },
  {
   "cell_type": "code",
   "execution_count": null,
   "id": "8f8b3771",
   "metadata": {},
   "outputs": [],
   "source": [
    "#import and load the right library\n",
    "import numpy as np\n",
    "import matplotlib.pyplot as plt\n",
    "from scipy.io import loadmat"
   ]
  },
  {
   "cell_type": "code",
   "execution_count": null,
   "id": "010ef84e",
   "metadata": {},
   "outputs": [],
   "source": [
    "# load the first neuron\n",
    "mat = loadmat(\"calcium_traces_data_non_compressed/0406_20180620_8_timeseries.mat\")\n",
    "\n",
    "#see variables in the file\n",
    "print(mat.keys())"
   ]
  },
  {
   "cell_type": "code",
   "execution_count": null,
   "id": "06b967d8",
   "metadata": {},
   "outputs": [],
   "source": [
    "# first, let's store dff in a variable\n",
    "dff = mat['dff'].flatten()"
   ]
  },
  {
   "cell_type": "markdown",
   "id": "9c98e0fd",
   "metadata": {},
   "source": [
    "In this case, we are interested in `cues`."
   ]
  },
  {
   "cell_type": "code",
   "execution_count": null,
   "id": "aa8bcec6",
   "metadata": {},
   "outputs": [],
   "source": [
    "# let's check again what 'cues' looks like\n",
    "cues = # insert your code\n",
    "print(type(cues), cues.shape)"
   ]
  },
  {
   "cell_type": "code",
   "execution_count": null,
   "id": "d3c36081",
   "metadata": {},
   "outputs": [],
   "source": [
    "# now let's do the same with rewards, punishments, go and nogo cues\n",
    "reward = # insert your code\n",
    "\n",
    "punish = # insert your code\n",
    "\n",
    "go= # insert your code\n",
    "\n",
    "nogo= # insert your code\n"
   ]
  },
  {
   "cell_type": "code",
   "execution_count": null,
   "id": "df1da5cf",
   "metadata": {},
   "outputs": [],
   "source": [
    "#step 1: extract the time points where the cue == 1, and store them as lists\n",
    "stimtimes = list(np.where(cues ==1)[0])"
   ]
  },
  {
   "cell_type": "code",
   "execution_count": null,
   "id": "c3a88c54",
   "metadata": {},
   "outputs": [],
   "source": [
    "# get the number of trials \n",
    "numtrials = len(stimtimes)\n",
    "\n",
    "# get the duration of the trial.  The trial duration is the time between one stimulus and the other. \n",
    "#think about it, you have a list of time points where the cues happen. How can you get the amount of time between one cue and the next? \n",
    "trial_duration = stimtimes[1] - stimtimes[0]  # assumes constant duration\n",
    "\n",
    "baseline = 2\n",
    "post_stim_period = trial_duration - baseline - 1"
   ]
  },
  {
   "cell_type": "markdown",
   "id": "9abbfa06",
   "metadata": {},
   "source": [
    "As a recap, we have 2 types of stimuli and 2 types of responses per stimulus.\n",
    "\n",
    "- Stimuli: Go and NoGo\n",
    "  - Responses Go: Hit, Miss\n",
    "  - Responses NoGo: False Alarm, Correct Rejection\n",
    "\n",
    "At this point, we don't know what our neuron's role is, if it's encoding the sensory stimulus, reward prediction, licking, or if it is involved at all. \n",
    "\n",
    "To figure out what our neuron does, first we sort the neuron activity into different \"response\" containers (Hit, Miss, FA, CR) that are time-locked to the onset of the stimulus. \n"
   ]
  },
  {
   "cell_type": "code",
   "execution_count": null,
   "id": "c28a890c",
   "metadata": {},
   "outputs": [],
   "source": [
    "# Step 2: Allocate Containers\n",
    "# the neuron response will be sorted into 4 different responses\n",
    "\n",
    "# hit:  Go + reward (mouse licks because it should)\n",
    "hit_waves = [] #create a tuple of the s\n",
    "\n",
    "#miss: Go + no reward (mouse does not lick but it should)\n",
    "miss_waves = []\n",
    "\n",
    "#false alarm : NoGo + Punishment (mouse licks but shouldn't)\n",
    "fa_waves = []\n",
    "\n",
    "#correct rejections : Nogo + No punishment (mouse doesn't lick because it shouldn't)\n",
    "cr_waves = []\n",
    "\n",
    "\n"
   ]
  },
  {
   "cell_type": "code",
   "execution_count": null,
   "id": "82fe2191",
   "metadata": {},
   "outputs": [],
   "source": [
    "#let's check how many of each type of trials there are, for a sanity check \n",
    "\n",
    "print(\"Total GO trials:\", np.sum(go[stimtimes[:-1]] > 0))\n",
    "print(\"Total NoGO trials:\", np.sum(nogo[stimtimes[:-1]] > 0))\n",
    "print(\"Total Hits:\", np.sum(reward== 1))\n",
    "print(\"Total Misses\", (np.sum(go[stimtimes[:-1]] > 0) - np.sum(reward== 1)))\n",
    "\n",
    "\n"
   ]
  },
  {
   "cell_type": "code",
   "execution_count": null,
   "id": "5dfaf3b5",
   "metadata": {},
   "outputs": [],
   "source": [
    "# Step 3: Sort Trials by Type\n",
    "\n",
    "#set the counter to all these to 0\n",
    "hit = miss = fa = cr = 0\n",
    "\n",
    "# here we are going to sort the neuron's response into different categories\n",
    "for itrial in range(numtrials - 1):\n",
    "    \n",
    "    istimstart = stimtimes[itrial] # time of the current trial\n",
    "    next_stim = stimtimes[itrial + 1] # time of the next trial\n",
    "\n",
    "    #get the start and the end of the trial from 2 time points before the stimulus to \n",
    "    start_idx = istimstart - baseline\n",
    "    end_idx = istimstart + post_stim_period\n",
    "\n",
    "    #segment of dff\n",
    "    segment = dff[start_idx:end_idx]\n",
    "\n",
    "    # checks if the stimulus is Go\n",
    "    if go[istimstart] == 1:\n",
    "        # if the stimulus is Go and there is a reward, it means that the mouse licked for the right stimulus! Hurrah!\n",
    "        if np.any(reward[istimstart:next_stim] ==1 ):\n",
    "            hit_waves.append(segment)\n",
    "            hit+=1\n",
    "        else:\n",
    "        #if the stimulus is Go and the mouse did not get a reward, it's a miss\n",
    "            miss_waves.append(segment)\n",
    "            miss+=1\n",
    "\n",
    "    # check if the stimulus is NoGo\n",
    "    elif nogo[istimstart] ==1:\n",
    "        # if the mouse was punished, it means it licked, therefore false alarm\n",
    "        if np.any(punish[istimstart:next_stim] ==1 ):\n",
    "            fa_waves.append(segment)\n",
    "            fa+=1\n",
    "        else:\n",
    "        # otherwise it correctly rejected the NoGo stimulus\n",
    "            cr_waves.append(segment)\n",
    "            cr+=1\n"
   ]
  },
  {
   "cell_type": "markdown",
   "id": "db09e697",
   "metadata": {},
   "source": [
    "\n",
    "We can also check whether the neuron could be involved in licking (so encoding motor information) by checking its activity time-locked to the licking. "
   ]
  },
  {
   "cell_type": "code",
   "execution_count": null,
   "id": "440418cc",
   "metadata": {},
   "outputs": [],
   "source": [
    "# Step 4: Lick-Aligned Waveforms\n",
    "\n",
    "# both hit and fa involve the mouse licking (miss and correct rejections means that the mouse doesn't lick)\n",
    "hit_lick_waves = []\n",
    "fa_lick_waves = []\n",
    "\n",
    "#same thing as before \n",
    "for itrial in range(1, numtrials - 1):\n",
    "    istimstart = stimtimes[itrial]\n",
    "    next_stim = stimtimes[itrial + 1]\n",
    "    \n",
    "   # here it's a bit different, but we basically get whether the mouse was rewarded (aka licked correctly)\n",
    "    if go[istimstart] == 1:\n",
    "        licktimes = np.where(reward[istimstart:next_stim] > 0)[0] # the reward is given if the mouse licks correctly \n",
    "        if len(licktimes) > 0:\n",
    "            lick_index = istimstart + licktimes[0]\n",
    "            start = lick_index - trial_duration // 2\n",
    "            end = lick_index + trial_duration // 2\n",
    "            segment = dff[start:end]\n",
    "            print(lick_index, licktimes, licktimes[0])\n",
    "\n",
    "            hit_lick_waves.append(segment)\n",
    "    #or we get whether the mouse was punished (licked but shouldn't have)\n",
    "    elif nogo[istimstart] > 0:\n",
    "        licktimes = np.where(punish[istimstart:next_stim] > 0)[0]\n",
    "        if len(licktimes) > 0:\n",
    "            start = lick_index - trial_duration // 2\n",
    "            end = lick_index + trial_duration // 2\n",
    "            segment = dff[start:end]\n",
    "            fa_lick_waves.append(segment)\n",
    "\n",
    "\n",
    "\n",
    "    \n",
    "\n",
    "hit_lick_waves = np.array(hit_lick_waves).T if hit_lick_waves else np.empty((trial_duration, 0))\n",
    "fa_lick_waves = np.array(fa_lick_waves).T if fa_lick_waves else np.empty((trial_duration, 0))\n",
    "\n",
    "# it is always tricky to handle np.arrays, so make sure to print what they look like, to get comfortable with handling the data"
   ]
  },
  {
   "cell_type": "markdown",
   "id": "a4dfd58a",
   "metadata": {},
   "source": [
    "#### Time to compute the Peri-Stimulus Time Histogram!\n",
    "\n",
    "A PSTH is a way to visualize the average neural response aligned to a specific event like the stimulus onset, reward, or a behavioral cue. It shows the mean activity across trials, time-locked to that event. In our case, we are going to compute 2 PSTHs to see the activity of our neuron time-locked to the cue, and time-locked to the licking. "
   ]
  },
  {
   "cell_type": "code",
   "execution_count": null,
   "id": "f5e670cc",
   "metadata": {},
   "outputs": [],
   "source": [
    "# Step 5: Compute PSTHs\n",
    "hit_psth = np.mean(hit_waves, axis=0) \n",
    "miss_psth = np.mean(miss_waves, axis=0) \n",
    "fa_psth = np.mean(fa_waves, axis=0) \n",
    "cr_psth = np.mean(cr_waves, axis=0)\n",
    "hit_lick_psth = np.mean(hit_lick_waves, axis=1)\n",
    "fa_lick_psth = np.mean(fa_lick_waves, axis=1)\n",
    "\n",
    "# sanity check to make sure they are all the same size\n",
    "print(len(hit_psth))\n",
    "print(len(miss_psth))\n",
    "print(len(fa_psth))\n",
    "print(len(cr_psth))\n",
    "print(len(hit_lick_psth))\n",
    "print(len(fa_lick_psth))\n"
   ]
  },
  {
   "cell_type": "code",
   "execution_count": null,
   "id": "f8315bd7",
   "metadata": {},
   "outputs": [],
   "source": [
    "# Step 6: Plot Trial-Type Aligned PSTHs\n",
    "time1 = np.arange(-baseline, post_stim_period) / 10\n",
    "\n",
    "plt.figure(figsize=(10, 5))\n",
    "plt.plot(time1, hit_psth, color='green', label='Hit', linewidth=2)\n",
    "plt.plot(time1, miss_psth, color='red', label='Miss', linewidth=2)\n",
    "plt.plot(time1, fa_psth, color=\"orange\", label='False Alarm', linewidth=2)\n",
    "plt.plot(time1, cr_psth, color=\"blue\", label='Correct Rejection', linewidth=2)\n",
    "plt.title('Mean Calcium Responses by Trial Type')\n",
    "plt.xlabel('Time(s)')\n",
    "plt.ylabel('ΔF/F')\n",
    "plt.vlines(x=0, ymin=-0.30, ymax=1.70, colors='teal', ls='--', lw=2, label='stimulus onset')\n",
    "plt.legend()\n",
    "plt.tight_layout()\n",
    "plt.show()\n",
    "\n",
    "# Step 7: Plot Lick-Aligned PSTHs\n",
    "time2 = np.arange(-((trial_duration // 2 )- 1), trial_duration // 2 + 1) / 10\n",
    "\n",
    "plt.figure(figsize=(10, 5))\n",
    "plt.plot(time2, hit_lick_psth, color='green', label='Hit Lick Aligned', linewidth=2)\n",
    "plt.plot(time2, fa_lick_psth, color=\"red\", label='False Alarm Lick Aligned', linewidth=2)\n",
    "plt.title('Lick-Aligned  Responses')\n",
    "plt.axvline(0, color='teal', linestyle='--', linewidth=2, label='Lick Time')\n",
    "plt.xlabel('Time (s)')\n",
    "plt.ylabel('ΔF/F')\n",
    "plt.legend()\n",
    "plt.tight_layout()\n",
    "plt.show()"
   ]
  },
  {
   "cell_type": "markdown",
   "id": "e0ff7360",
   "metadata": {},
   "source": [
    "You just learned how to find the average response of the neuron based by trial! \n",
    "\n",
    "One neuron isn't enough when you want to analyse a whole dataset, let's learn how to optimise this process. "
   ]
  },
  {
   "cell_type": "code",
   "execution_count": null,
   "id": "ec0ba3ae",
   "metadata": {},
   "outputs": [],
   "source": [
    "# the process is quite simple, we are just going to access the folder and repeat this whole code inside a for loop\n",
    "import os\n",
    "\n",
    "data_directory = \"calcium_traces_data_non_compressed\"\n",
    "\n",
    "for neuron in os.listdir(data_directory):\n",
    "    #we ignore anything that is not in the right file format\n",
    "    if not neuron.endswith('.mat'):\n",
    "        continue\n",
    "\n",
    "    mat = loadmat(os.path.join(data_directory, neuron))\n",
    "\n",
    "    # _ _ _ _ _ _ continue the code based on what you learned _ _ _ _ _ _ _\n",
    "\n",
    "\n",
    "    #Plotting -- same thing as before, but we are going to plot the name of the neurons\n",
    "    base_name = neuron.replace('.mat', '')\n",
    "\n",
    "    #we are also going to save our plots in a subdirectory\n",
    "    plot_dir = os.path.join(data_directory, 'plots')  # folder to save plots\n",
    "    os.makedirs(plot_dir, exist_ok=True)\n",
    "\n",
    "\n",
    "\n",
    "    # for plot 1 add \n",
    "    # plt.title(f'{base_name} - Trial-Aligned PSTH')\n",
    "    plt.savefig(os.path.join(plot_dir, f'{base_name}_trial_aligned.png'))\n",
    "    plt.close()\n",
    "\n",
    "\n",
    "    # for plot 2 add plt.title(f'{base_name} - Lick-Aligned PSTH')\n",
    "    plt.savefig(os.path.join(plot_dir, f'{base_name}_lick_aligned.png'))\n",
    "    plt.close()\n"
   ]
  }
 ],
 "metadata": {
  "kernelspec": {
   "display_name": "ocv4",
   "language": "python",
   "name": "python3"
  },
  "language_info": {
   "codemirror_mode": {
    "name": "ipython",
    "version": 3
   },
   "file_extension": ".py",
   "mimetype": "text/x-python",
   "name": "python",
   "nbconvert_exporter": "python",
   "pygments_lexer": "ipython3",
   "version": "3.6.13"
  }
 },
 "nbformat": 4,
 "nbformat_minor": 5
}
